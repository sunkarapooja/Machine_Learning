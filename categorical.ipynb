{
 "cells": [
  {
   "cell_type": "code",
   "execution_count": 2,
   "metadata": {},
   "outputs": [],
   "source": [
    "import numpy as np\n",
    "from sklearn.preprocessing import LabelEncoder, LabelBinarizer, OneHotEncoder\n",
    "from sklearn.feature_extraction import DictVectorizer, FeatureHasher\n",
    "np.random.seed(1000)"
   ]
  },
  {
   "cell_type": "code",
   "execution_count": 10,
   "metadata": {},
   "outputs": [
    {
     "name": "stdout",
     "output_type": "stream",
     "text": [
      "['female' 'female' 'male' 'male' 'female' 'male' 'female' 'male' 'female'\n",
      " 'female']\n",
      "Label Encoding\n",
      "[0 0 1 1 0 1 0 1 0 0]\n"
     ]
    }
   ],
   "source": [
    "Y = np.random.choice(('female','male'),size=(10))\n",
    "print(Y)\n",
    "print(\"Label Encoding\")\n",
    "le = LabelEncoder()\n",
    "yt = le.fit_transform(Y)\n",
    "print(yt)"
   ]
  },
  {
   "cell_type": "code",
   "execution_count": 11,
   "metadata": {},
   "outputs": [
    {
     "name": "stdout",
     "output_type": "stream",
     "text": [
      "Label Decoding\n",
      "['male', 'female', 'male', 'male', 'female', 'female']\n"
     ]
    }
   ],
   "source": [
    "## Decode dummy output\n",
    "print('Label Decoding')\n",
    "output = [1, 0, 1, 1, 0, 0]\n",
    "ty = [le.classes_[i] for i in output]\n",
    "print(ty)\n"
   ]
  },
  {
   "cell_type": "code",
   "execution_count": 12,
   "metadata": {},
   "outputs": [
    {
     "name": "stdout",
     "output_type": "stream",
     "text": [
      "Label Binaraization\n",
      "[[0]\n",
      " [0]\n",
      " [1]\n",
      " [1]\n",
      " [0]\n",
      " [1]\n",
      " [0]\n",
      " [1]\n",
      " [0]\n",
      " [0]]\n"
     ]
    }
   ],
   "source": [
    "## Label Binarization\n",
    "print('Label Binaraization')\n",
    "lb = LabelBinarizer()\n",
    "bt = lb.fit_transform(Y)\n",
    "print(bt)"
   ]
  },
  {
   "cell_type": "code",
   "execution_count": 13,
   "metadata": {},
   "outputs": [
    {
     "name": "stdout",
     "output_type": "stream",
     "text": [
      "Decode Binaraization\n"
     ]
    },
    {
     "data": {
      "text/plain": [
       "array(['female', 'female', 'male', 'male', 'female', 'male', 'female',\n",
       "       'male', 'female', 'female'], dtype='<U6')"
      ]
     },
     "execution_count": 13,
     "metadata": {},
     "output_type": "execute_result"
    }
   ],
   "source": [
    "## Decode Binaraization\n",
    "print(\"Decode Binaraization\")\n",
    "lb.inverse_transform(bt)"
   ]
  },
  {
   "cell_type": "code",
   "execution_count": 15,
   "metadata": {},
   "outputs": [],
   "source": [
    "# Define some dictionary data\n",
    "data = [\n",
    "    {'feature_1': 10, 'feature_2': 15},\n",
    "    {'feature_1': -5, 'feature_3': 22},\n",
    "    {'feature_3': -2, 'feature_4': 10}\n",
    "]"
   ]
  },
  {
   "cell_type": "code",
   "execution_count": 19,
   "metadata": {},
   "outputs": [
    {
     "name": "stdout",
     "output_type": "stream",
     "text": [
      "Dictionary Data Vectoraization\n",
      "[[10. 15.  0.  0.]\n",
      " [-5.  0. 22.  0.]\n",
      " [ 0.  0. -2. 10.]]\n"
     ]
    }
   ],
   "source": [
    "print(\"Dictionary Data Vectoraization\")\n",
    "dv = DictVectorizer()\n",
    "dt = dv.fit_transform(data)\n",
    "print(dt.todense())"
   ]
  },
  {
   "cell_type": "code",
   "execution_count": 21,
   "metadata": {},
   "outputs": [
    {
     "name": "stdout",
     "output_type": "stream",
     "text": [
      "Vocabulary:\n",
      "{'feature_1': 0, 'feature_2': 1, 'feature_3': 2, 'feature_4': 3}\n"
     ]
    }
   ],
   "source": [
    "print('Vocabulary:')\n",
    "print(dv.vocabulary_)"
   ]
  },
  {
   "cell_type": "code",
   "execution_count": 22,
   "metadata": {},
   "outputs": [
    {
     "name": "stdout",
     "output_type": "stream",
     "text": [
      "Feature Hashing\n",
      "  (0, 43935)\t10.0\n",
      "  (0, 411053)\t15.0\n",
      "  (1, 43935)\t-5.0\n",
      "  (1, 357773)\t22.0\n",
      "  (2, 357773)\t-2.0\n",
      "  (2, 687220)\t-10.0\n"
     ]
    }
   ],
   "source": [
    "print('Feature Hashing')\n",
    "fh = FeatureHasher()\n",
    "ft = fh.fit_transform(data)\n",
    "print(ft)"
   ]
  },
  {
   "cell_type": "code",
   "execution_count": 27,
   "metadata": {},
   "outputs": [
    {
     "name": "stdout",
     "output_type": "stream",
     "text": [
      "decode the features\n",
      "Feature decoding\n",
      "[[0. 0. 0. ... 0. 0. 0.]\n",
      " [0. 0. 0. ... 0. 0. 0.]\n",
      " [0. 0. 0. ... 0. 0. 0.]]\n"
     ]
    }
   ],
   "source": [
    "print('decode the features')\n",
    "print('Feature decoding')\n",
    "print(ft.todense())"
   ]
  },
  {
   "cell_type": "code",
   "execution_count": 31,
   "metadata": {},
   "outputs": [
    {
     "name": "stdout",
     "output_type": "stream",
     "text": [
      "[[1. 0. 0. 1. 0. 0. 0.]\n",
      " [0. 1. 0. 0. 1. 0. 0.]\n",
      " [0. 1. 1. 0. 0. 0. 0.]\n",
      " [1. 0. 0. 0. 0. 1. 0.]\n",
      " [1. 0. 0. 0. 0. 0. 1.]]\n"
     ]
    }
   ],
   "source": [
    "# Encode data\n",
    "# One-hot encoding\n",
    "data1 = [\n",
    "    [0, 10],\n",
    "    [1, 11],\n",
    "    [1, 8],\n",
    "    [0, 12],\n",
    "    [0, 15]\n",
    "]\n",
    "oh = OneHotEncoder()\n",
    "Y_oh = oh.fit_transform(data1)\n",
    "print(Y_oh.todense())"
   ]
  },
  {
   "cell_type": "code",
   "execution_count": null,
   "metadata": {},
   "outputs": [],
   "source": []
  }
 ],
 "metadata": {
  "kernelspec": {
   "display_name": "Python 3",
   "language": "python",
   "name": "python3"
  },
  "language_info": {
   "codemirror_mode": {
    "name": "ipython",
    "version": 3
   },
   "file_extension": ".py",
   "mimetype": "text/x-python",
   "name": "python",
   "nbconvert_exporter": "python",
   "pygments_lexer": "ipython3",
   "version": "3.8.5"
  }
 },
 "nbformat": 4,
 "nbformat_minor": 4
}
