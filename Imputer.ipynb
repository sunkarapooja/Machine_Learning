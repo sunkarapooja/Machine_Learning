{
 "cells": [
  {
   "cell_type": "code",
   "execution_count": 4,
   "metadata": {},
   "outputs": [],
   "source": [
    "import numpy as np\n",
    "from sklearn.impute import SimpleImputer"
   ]
  },
  {
   "cell_type": "code",
   "execution_count": 7,
   "metadata": {},
   "outputs": [
    {
     "name": "stdout",
     "output_type": "stream",
     "text": [
      "[[ 1. nan  2.]\n",
      " [ 2.  3. nan]\n",
      " [-1.  4.  2.]]\n"
     ]
    }
   ],
   "source": [
    "data = np.array([[1, np.nan, 2], [2, 3, np.nan], [-1, 4, 2]])\n",
    "print(data)"
   ]
  },
  {
   "cell_type": "code",
   "execution_count": 9,
   "metadata": {},
   "outputs": [
    {
     "name": "stdout",
     "output_type": "stream",
     "text": [
      "Mean strategy\n",
      "[[ 1.   3.5  2. ]\n",
      " [ 2.   3.   2. ]\n",
      " [-1.   4.   2. ]]\n",
      "Median Strategy\n",
      "[[ 1.   3.5  2. ]\n",
      " [ 2.   3.   2. ]\n",
      " [-1.   4.   2. ]]\n",
      "Most-frequent strategy\n",
      "[[ 1.  3.  2.]\n",
      " [ 2.  3.  2.]\n",
      " [-1.  4.  2.]]\n"
     ]
    }
   ],
   "source": [
    "print('Mean strategy')\n",
    "imp  = SimpleImputer(strategy='mean')\n",
    "print(imp.fit_transform(data))\n",
    "print('Median Strategy')\n",
    "imp  = SimpleImputer(strategy='median')\n",
    "print(imp.fit_transform(data))\n",
    "print('Most-frequent strategy')\n",
    "imp = SimpleImputer(strategy='most_frequent')\n",
    "print(imp.fit_transform(data))"
   ]
  },
  {
   "cell_type": "code",
   "execution_count": null,
   "metadata": {},
   "outputs": [],
   "source": []
  }
 ],
 "metadata": {
  "kernelspec": {
   "display_name": "Python 3",
   "language": "python",
   "name": "python3"
  },
  "language_info": {
   "codemirror_mode": {
    "name": "ipython",
    "version": 3
   },
   "file_extension": ".py",
   "mimetype": "text/x-python",
   "name": "python",
   "nbconvert_exporter": "python",
   "pygments_lexer": "ipython3",
   "version": "3.8.5"
  }
 },
 "nbformat": 4,
 "nbformat_minor": 4
}
